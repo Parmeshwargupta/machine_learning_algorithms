{
 "cells": [
  {
   "cell_type": "markdown",
   "id": "2772011f",
   "metadata": {},
   "source": [
    "# Function\n",
    "\n",
    "A function is a block of code which only runs when it is called.\n",
    "\n",
    "you can pass data, knaown as parameter into a function\n",
    "\n",
    "A function  can return data as a result\n",
    "\n"
   ]
  },
  {
   "cell_type": "markdown",
   "id": "e167e849",
   "metadata": {},
   "source": [
    " Function is defined can return data as a result."
   ]
  },
  {
   "cell_type": "code",
   "execution_count": 9,
   "id": "8dfd4d7e",
   "metadata": {},
   "outputs": [],
   "source": [
    "def first():\n",
    "    print(\"function I am Parmeshwar Gupta\")"
   ]
  },
  {
   "cell_type": "code",
   "execution_count": 10,
   "id": "b13c4310",
   "metadata": {},
   "outputs": [
    {
     "name": "stdout",
     "output_type": "stream",
     "text": [
      "function I am Parmeshwar Gupta\n"
     ]
    }
   ],
   "source": [
    "first()"
   ]
  },
  {
   "cell_type": "code",
   "execution_count": 13,
   "id": "55e0e0bd",
   "metadata": {},
   "outputs": [
    {
     "name": "stdout",
     "output_type": "stream",
     "text": [
      "akdlive code\n",
      "unacademy code\n"
     ]
    }
   ],
   "source": [
    "def my_function(fname):\n",
    "    print(fname + \" code\")\n",
    "my_function(\"akdlive\") \n",
    "my_function(\"unacademy\")\n",
    "    \n",
    "    "
   ]
  },
  {
   "cell_type": "code",
   "execution_count": 16,
   "id": "7d625da7",
   "metadata": {},
   "outputs": [
    {
     "name": "stdout",
     "output_type": "stream",
     "text": [
      "Parmeshwar Gupta\n"
     ]
    }
   ],
   "source": [
    "def my_function(fname, lname):\n",
    "    print(fname +\" \"+lname)\n",
    "my_function(\"Parmeshwar\",\"Gupta\")    "
   ]
  },
  {
   "cell_type": "markdown",
   "id": "d1de36eb",
   "metadata": {},
   "source": [
    "# Arbitrary Arguments, *args\n",
    "\n",
    "   * if you do not know how many argument that will be passed into your function\n",
    "   * add a * before the parameter name in the function definition.\n",
    "   * this way that function will receive a tuple of arguments, and can access the items accordingly\n",
    "   "
   ]
  },
  {
   "cell_type": "code",
   "execution_count": 17,
   "id": "9f124b20",
   "metadata": {},
   "outputs": [
    {
     "name": "stdout",
     "output_type": "stream",
     "text": [
      "The  best code is akdsc\n"
     ]
    }
   ],
   "source": [
    "def my_function(*code):\n",
    "    print(\"The  best code is \" + code[2])\n",
    "my_function(\"akd\", \"akdlive\", \"akdsc\")    "
   ]
  },
  {
   "cell_type": "code",
   "execution_count": 18,
   "id": "a5d30324",
   "metadata": {},
   "outputs": [
    {
     "name": "stdout",
     "output_type": "stream",
     "text": [
      "sun= 5\n"
     ]
    }
   ],
   "source": [
    "def sum(a,b):\n",
    "    c=a+b\n",
    "    print(\"sun=\",c)\n",
    "sum(2,3)    "
   ]
  },
  {
   "cell_type": "code",
   "execution_count": 19,
   "id": "756d5fe9",
   "metadata": {},
   "outputs": [],
   "source": [
    "#odd and even \n",
    "def oddeven(x):\n",
    "    if(x%2==0):\n",
    "        print(\"number is even\")\n",
    "        \n",
    "    else:\n",
    "        print(\"number is odd\")"
   ]
  },
  {
   "cell_type": "code",
   "execution_count": 20,
   "id": "4b02b35e",
   "metadata": {},
   "outputs": [
    {
     "name": "stdout",
     "output_type": "stream",
     "text": [
      "number is odd\n"
     ]
    }
   ],
   "source": [
    "oddeven(23)"
   ]
  },
  {
   "cell_type": "markdown",
   "id": "6f9a08cb",
   "metadata": {},
   "source": [
    "### Arbitratary Keyword Argument, **kwargs\n",
    "* if you do not know  howmany keyword argument that will be passed into your function,\n",
    "* add two asterisk: **before the parameter name in the function definition \n",
    "* this way the function will receive a directory of argumens, and can access the items accordingly"
   ]
  },
  {
   "cell_type": "code",
   "execution_count": 22,
   "id": "b27616a0",
   "metadata": {},
   "outputs": [
    {
     "name": "stdout",
     "output_type": "stream",
     "text": [
      "Enter the value of 'n': 7\n",
      "Fabonacci Series : 0 1 1 2 3 5 8 "
     ]
    }
   ],
   "source": [
    "n=int(input(\"Enter the value of 'n': \"))\n",
    "a=0\n",
    "b=1\n",
    "sum=0\n",
    "count=1\n",
    "print(\"Fabonacci Series :\",end=\" \")\n",
    "while(count<=n):\n",
    "    print(sum, end=\" \")\n",
    "    count+=1\n",
    "    a=b\n",
    "    b=sum\n",
    "    sum=a+b\n"
   ]
  },
  {
   "cell_type": "code",
   "execution_count": 26,
   "id": "23ee23f1",
   "metadata": {},
   "outputs": [
    {
     "name": "stdout",
     "output_type": "stream",
     "text": [
      "His last name is dubey\n"
     ]
    }
   ],
   "source": [
    "def my_function(**nam):\n",
    "    print(\"His last name is \" + nam[\"sur\"])\n",
    "my_function(nam=\"arun\",sur=\"dubey\")    "
   ]
  },
  {
   "cell_type": "code",
   "execution_count": 28,
   "id": "e4bc0bea",
   "metadata": {},
   "outputs": [
    {
     "name": "stdout",
     "output_type": "stream",
     "text": [
      "apple\n",
      "banana\n",
      "cherry\n"
     ]
    }
   ],
   "source": [
    "#Passing a list in as an Argument\n",
    "def my_function(food):\n",
    "    for x in food:\n",
    "        print(x)\n",
    "        \n",
    "fruits=[\"apple\", \"banana\", \"cherry\"]\n",
    "my_function(fruits)\n"
   ]
  },
  {
   "cell_type": "code",
   "execution_count": 29,
   "id": "9f4b7f4b",
   "metadata": {},
   "outputs": [
    {
     "name": "stdout",
     "output_type": "stream",
     "text": [
      "1\n",
      "3\n",
      "2\n",
      "4\n",
      "56\n"
     ]
    }
   ],
   "source": [
    "#passing a tuple as an argument\n",
    "def my_function(tup):\n",
    "    for x in tup:\n",
    "        print(x)\n",
    "        \n",
    "tup=(1,3,2,4,56)\n",
    "my_function(tup)"
   ]
  },
  {
   "cell_type": "code",
   "execution_count": 30,
   "id": "a9398dcb",
   "metadata": {},
   "outputs": [
    {
     "data": {
      "text/plain": [
       "15"
      ]
     },
     "execution_count": 30,
     "metadata": {},
     "output_type": "execute_result"
    }
   ],
   "source": [
    "def my_function(x):\n",
    "    return 5*x\n",
    "my_function(3)"
   ]
  },
  {
   "cell_type": "code",
   "execution_count": 31,
   "id": "9547d406",
   "metadata": {},
   "outputs": [],
   "source": [
    "a=my_function(5)"
   ]
  },
  {
   "cell_type": "code",
   "execution_count": 32,
   "id": "9ef90612",
   "metadata": {},
   "outputs": [
    {
     "data": {
      "text/plain": [
       "25"
      ]
     },
     "execution_count": 32,
     "metadata": {},
     "output_type": "execute_result"
    }
   ],
   "source": [
    "a"
   ]
  },
  {
   "cell_type": "code",
   "execution_count": 38,
   "id": "37ffbe24",
   "metadata": {},
   "outputs": [
    {
     "data": {
      "text/plain": [
       "'hi'"
      ]
     },
     "execution_count": 38,
     "metadata": {},
     "output_type": "execute_result"
    }
   ],
   "source": [
    "def my_function():\n",
    "    return \"hi\"\n",
    "a=my_function()\n",
    "a"
   ]
  },
  {
   "cell_type": "code",
   "execution_count": 34,
   "id": "ed03578b",
   "metadata": {},
   "outputs": [
    {
     "name": "stdout",
     "output_type": "stream",
     "text": [
      "hi\n"
     ]
    }
   ],
   "source": [
    "print(a)"
   ]
  },
  {
   "cell_type": "code",
   "execution_count": 44,
   "id": "e8a9db2b",
   "metadata": {},
   "outputs": [
    {
     "name": "stdout",
     "output_type": "stream",
     "text": [
      "Enter the value of num : 5\n",
      "The factorial of  5 is 120\n"
     ]
    }
   ],
   "source": [
    "def factorial(x):\n",
    "    \"\"\"This is recursive function to find the factorial of an integer\"\"\"\n",
    "    if x==1:\n",
    "        return 1\n",
    "    else:\n",
    "        return(x*factorial(x-1))\n",
    "num=int(input(\"Enter the value of num : \"))\n",
    "print(\"The factorial of \", num, \"is\",factorial(num))"
   ]
  },
  {
   "cell_type": "markdown",
   "id": "cde56c80",
   "metadata": {},
   "source": [
    "# Numpy\n",
    " Numpy (Numerical Python) is an open source Python library that's used in almost every field of science and engineering. It's the universal standard for working with numeriacal data in python, and it's at the core of the scientific Python and Pydata ecosystems."
   ]
  },
  {
   "cell_type": "code",
   "execution_count": null,
   "id": "6bc147bd",
   "metadata": {},
   "outputs": [],
   "source": []
  }
 ],
 "metadata": {
  "kernelspec": {
   "display_name": "Python 3 (ipykernel)",
   "language": "python",
   "name": "python3"
  },
  "language_info": {
   "codemirror_mode": {
    "name": "ipython",
    "version": 3
   },
   "file_extension": ".py",
   "mimetype": "text/x-python",
   "name": "python",
   "nbconvert_exporter": "python",
   "pygments_lexer": "ipython3",
   "version": "3.9.7"
  }
 },
 "nbformat": 4,
 "nbformat_minor": 5
}
