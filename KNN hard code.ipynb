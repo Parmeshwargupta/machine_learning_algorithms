{
 "cells": [
  {
   "cell_type": "code",
   "execution_count": 46,
   "id": "30b12671",
   "metadata": {},
   "outputs": [],
   "source": [
    "# dataset\n",
    "dataset=[[2,3,0],\n",
    "        [1,2,0],\n",
    "        [3,4,0],\n",
    "        [4,1,1],\n",
    "        [3,3,0],\n",
    "         [7,2,1],\n",
    "        [5,2,1],\n",
    "        [6,1,1],\n",
    "        [8,-1,1],\n",
    "        [7,3,1]]"
   ]
  },
  {
   "cell_type": "code",
   "execution_count": 47,
   "id": "343fa84c",
   "metadata": {},
   "outputs": [
    {
     "data": {
      "text/plain": [
       "[[2, 3, 0],\n",
       " [1, 2, 0],\n",
       " [3, 4, 0],\n",
       " [4, 1, 1],\n",
       " [3, 3, 0],\n",
       " [7, 2, 1],\n",
       " [5, 2, 1],\n",
       " [6, 1, 1],\n",
       " [8, -1, 1],\n",
       " [7, 3, 1]]"
      ]
     },
     "execution_count": 47,
     "metadata": {},
     "output_type": "execute_result"
    }
   ],
   "source": [
    "dataset\n"
   ]
  },
  {
   "cell_type": "code",
   "execution_count": 48,
   "id": "bed97391",
   "metadata": {},
   "outputs": [
    {
     "data": {
      "text/plain": [
       "[2, 3, 0]"
      ]
     },
     "execution_count": 48,
     "metadata": {},
     "output_type": "execute_result"
    }
   ],
   "source": [
    "dataset[0]"
   ]
  },
  {
   "cell_type": "code",
   "execution_count": 49,
   "id": "ad195046",
   "metadata": {},
   "outputs": [
    {
     "data": {
      "text/plain": [
       "[7, 3, 1]"
      ]
     },
     "execution_count": 49,
     "metadata": {},
     "output_type": "execute_result"
    }
   ],
   "source": [
    "dataset[-1]"
   ]
  },
  {
   "cell_type": "code",
   "execution_count": 52,
   "id": "c86ae556",
   "metadata": {},
   "outputs": [],
   "source": [
    "from math import sqrt\n",
    "def euclideanD(r1,r2):\n",
    "    d=0.0\n",
    "    for i in range(len(r1)-1):\n",
    "        \n",
    "        d+=(r1[i]-r2[i])**2\n",
    "    return sqrt(d)"
   ]
  },
  {
   "cell_type": "code",
   "execution_count": 54,
   "id": "87e921c3",
   "metadata": {},
   "outputs": [
    {
     "name": "stdout",
     "output_type": "stream",
     "text": [
      "0.0\n",
      "1.4142135623730951\n",
      "1.4142135623730951\n",
      "2.8284271247461903\n",
      "1.0\n",
      "5.0990195135927845\n",
      "3.1622776601683795\n",
      "4.47213595499958\n",
      "7.211102550927978\n",
      "5.0\n"
     ]
    }
   ],
   "source": [
    "r0=dataset[0]\n",
    "for row in dataset:\n",
    "    d=euclideanD(r0,row)\n",
    "    print(d)\n",
    "#     print('{:.3f}'.format(d))\n",
    "\n",
    "    "
   ]
  },
  {
   "cell_type": "code",
   "execution_count": 60,
   "id": "142d709b",
   "metadata": {},
   "outputs": [],
   "source": [
    "def get_n(train, test, num_n):\n",
    "    distance=list()\n",
    "    for train_row in train:\n",
    "        dist=euclideanD(test,train_row)\n",
    "        distance.append((train_row,dist))\n",
    "    distance.sort(key=lambda tup:tup[1])  \n",
    "    n=list()\n",
    "    for i in range(num_n):\n",
    "        n.append(distance[i][0])\n",
    "    return n    "
   ]
  },
  {
   "cell_type": "code",
   "execution_count": 62,
   "id": "4cbd2670",
   "metadata": {},
   "outputs": [
    {
     "data": {
      "text/plain": [
       "[[2, 3, 0], [3, 3, 0], [1, 2, 0], [3, 4, 0], [4, 1, 1]]"
      ]
     },
     "execution_count": 62,
     "metadata": {},
     "output_type": "execute_result"
    }
   ],
   "source": [
    "get_n(dataset, dataset[0],5)"
   ]
  },
  {
   "cell_type": "code",
   "execution_count": 63,
   "id": "cbe44fb7",
   "metadata": {},
   "outputs": [
    {
     "name": "stdout",
     "output_type": "stream",
     "text": [
      "1.4142135623730951\n",
      "0.0\n",
      "2.8284271247461903\n",
      "3.1622776601683795\n",
      "2.23606797749979\n",
      "6.0\n",
      "4.0\n",
      "5.0990195135927845\n",
      "7.615773105863909\n",
      "6.082762530298219\n"
     ]
    }
   ],
   "source": [
    "r0=dataset[1]\n",
    "for row in dataset:\n",
    "    d=euclideanD(r0,row)\n",
    "    print(d)"
   ]
  },
  {
   "cell_type": "code",
   "execution_count": 64,
   "id": "ea3ce937",
   "metadata": {},
   "outputs": [
    {
     "data": {
      "text/plain": [
       "[[2, 3, 0],\n",
       " [1, 2, 0],\n",
       " [3, 4, 0],\n",
       " [4, 1, 1],\n",
       " [3, 3, 0],\n",
       " [7, 2, 1],\n",
       " [5, 2, 1],\n",
       " [6, 1, 1],\n",
       " [8, -1, 1],\n",
       " [7, 3, 1]]"
      ]
     },
     "execution_count": 64,
     "metadata": {},
     "output_type": "execute_result"
    }
   ],
   "source": [
    "dataset"
   ]
  },
  {
   "cell_type": "code",
   "execution_count": 65,
   "id": "37486270",
   "metadata": {},
   "outputs": [],
   "source": [
    "def predict(train, test,num_n):\n",
    "    n=get_n(train,test,num_n)\n",
    "    output_values=[row[-1] for row in n]\n",
    "    prediction=max(set(output_values),key=output_values.count)\n",
    "    return prediction\n",
    "    "
   ]
  },
  {
   "cell_type": "code",
   "execution_count": 66,
   "id": "fa6284d2",
   "metadata": {},
   "outputs": [],
   "source": [
    "prediction=predict(dataset,dataset[0],3)\n"
   ]
  },
  {
   "cell_type": "code",
   "execution_count": 67,
   "id": "9ba664ac",
   "metadata": {},
   "outputs": [
    {
     "data": {
      "text/plain": [
       "0"
      ]
     },
     "execution_count": 67,
     "metadata": {},
     "output_type": "execute_result"
    }
   ],
   "source": [
    "prediction"
   ]
  },
  {
   "cell_type": "code",
   "execution_count": 68,
   "id": "16fb3c20",
   "metadata": {},
   "outputs": [
    {
     "name": "stdout",
     "output_type": "stream",
     "text": [
      "Expected 0, predicted 0\n"
     ]
    }
   ],
   "source": [
    "print('Expected %d, predicted %d'%(dataset[0][-1],prediction))"
   ]
  },
  {
   "cell_type": "code",
   "execution_count": 69,
   "id": "714e4d99",
   "metadata": {},
   "outputs": [
    {
     "name": "stdout",
     "output_type": "stream",
     "text": [
      "Expected 1, predicted 1\n"
     ]
    }
   ],
   "source": [
    "prediction=predict(dataset,dataset[3],3)\n",
    "print('Expected %d, predicted %d'%(dataset[3][-1],prediction))"
   ]
  },
  {
   "cell_type": "code",
   "execution_count": null,
   "id": "df32b79a",
   "metadata": {},
   "outputs": [],
   "source": []
  }
 ],
 "metadata": {
  "kernelspec": {
   "display_name": "Python 3 (ipykernel)",
   "language": "python",
   "name": "python3"
  },
  "language_info": {
   "codemirror_mode": {
    "name": "ipython",
    "version": 3
   },
   "file_extension": ".py",
   "mimetype": "text/x-python",
   "name": "python",
   "nbconvert_exporter": "python",
   "pygments_lexer": "ipython3",
   "version": "3.9.7"
  }
 },
 "nbformat": 4,
 "nbformat_minor": 5
}
