{
 "cells": [
  {
   "cell_type": "markdown",
   "id": "2e76fd60",
   "metadata": {},
   "source": [
    "# Numpy¶\n",
    "Numpy (Numerical Python) is an open source Python library that's used in almost every field of science and engineering. It's the universal standard for working with numeriacal data in python, and it's at the core of the scientific Python and Pydata ecosystems."
   ]
  },
  {
   "cell_type": "code",
   "execution_count": 1,
   "id": "55b34cdb",
   "metadata": {},
   "outputs": [],
   "source": [
    "import numpy as np"
   ]
  },
  {
   "cell_type": "code",
   "execution_count": 2,
   "id": "bae81b57",
   "metadata": {},
   "outputs": [
    {
     "data": {
      "text/plain": [
       "array([ 2,  3,  4, 56,  6])"
      ]
     },
     "execution_count": 2,
     "metadata": {},
     "output_type": "execute_result"
    }
   ],
   "source": [
    "data=np.array([2,3,4,56,6])\n",
    "data"
   ]
  },
  {
   "cell_type": "code",
   "execution_count": 3,
   "id": "00dfd818",
   "metadata": {},
   "outputs": [
    {
     "name": "stdout",
     "output_type": "stream",
     "text": [
      "[ 2  3  4 56  6]\n"
     ]
    }
   ],
   "source": [
    "print(data)"
   ]
  },
  {
   "cell_type": "code",
   "execution_count": 4,
   "id": "27c72fc9",
   "metadata": {},
   "outputs": [
    {
     "data": {
      "text/plain": [
       "1"
      ]
     },
     "execution_count": 4,
     "metadata": {},
     "output_type": "execute_result"
    }
   ],
   "source": [
    "data.ndim"
   ]
  },
  {
   "cell_type": "code",
   "execution_count": 5,
   "id": "60a6b26c",
   "metadata": {},
   "outputs": [
    {
     "name": "stdout",
     "output_type": "stream",
     "text": [
      "<class 'numpy.ndarray'>\n"
     ]
    }
   ],
   "source": [
    "print(type(data))"
   ]
  },
  {
   "cell_type": "code",
   "execution_count": 6,
   "id": "f84c8d0c",
   "metadata": {},
   "outputs": [
    {
     "name": "stdout",
     "output_type": "stream",
     "text": [
      "[2 3 4 5]\n"
     ]
    }
   ],
   "source": [
    "# to create an ndarray, we can pass a list, tuple or any array-like object in the variable \n",
    "#and it will be converted into an ndarray\n",
    "#pass tupple in array\n",
    "import numpy\n",
    "x=numpy.array((2,3,4,5))\n",
    "print(x)"
   ]
  },
  {
   "cell_type": "code",
   "execution_count": 7,
   "id": "d8fac1ad",
   "metadata": {},
   "outputs": [
    {
     "name": "stdout",
     "output_type": "stream",
     "text": [
      "5\n"
     ]
    }
   ],
   "source": [
    "# 0-D array, or Scalars, are the elements in an array. Each value in an array is a 0-D array\n",
    "x=numpy.array(5)\n",
    "print(x)"
   ]
  },
  {
   "cell_type": "code",
   "execution_count": 8,
   "id": "b8af3d8c",
   "metadata": {},
   "outputs": [
    {
     "data": {
      "text/plain": [
       "0"
      ]
     },
     "execution_count": 8,
     "metadata": {},
     "output_type": "execute_result"
    }
   ],
   "source": [
    "x.ndim"
   ]
  },
  {
   "cell_type": "code",
   "execution_count": 9,
   "id": "f54be649",
   "metadata": {},
   "outputs": [
    {
     "name": "stdout",
     "output_type": "stream",
     "text": [
      "[[10 20 30]\n",
      " [40 59 60]]\n"
     ]
    }
   ],
   "source": [
    "# 2D array, (list of list has been passed)\n",
    "import numpy as np\n",
    "x=np.array([[10,20,30],[40,59,60]])\n",
    "print(x)"
   ]
  },
  {
   "cell_type": "code",
   "execution_count": 10,
   "id": "01f1b7b2",
   "metadata": {},
   "outputs": [
    {
     "data": {
      "text/plain": [
       "2"
      ]
     },
     "execution_count": 10,
     "metadata": {},
     "output_type": "execute_result"
    }
   ],
   "source": [
    "x.ndim"
   ]
  },
  {
   "cell_type": "code",
   "execution_count": 11,
   "id": "b118ae70",
   "metadata": {},
   "outputs": [],
   "source": [
    "# 3-D array with 2-D arrays\n",
    "import numpy as np\n",
    "x=np.array([[[10,20,30],[48,45,678]],[[12,34,55],[23,45,67]]])"
   ]
  },
  {
   "cell_type": "code",
   "execution_count": 12,
   "id": "976f34d7",
   "metadata": {},
   "outputs": [
    {
     "name": "stdout",
     "output_type": "stream",
     "text": [
      "[[[ 10  20  30]\n",
      "  [ 48  45 678]]\n",
      "\n",
      " [[ 12  34  55]\n",
      "  [ 23  45  67]]]\n"
     ]
    }
   ],
   "source": [
    "print(x)"
   ]
  },
  {
   "cell_type": "code",
   "execution_count": 13,
   "id": "79e09a8f",
   "metadata": {},
   "outputs": [
    {
     "data": {
      "text/plain": [
       "3"
      ]
     },
     "execution_count": 13,
     "metadata": {},
     "output_type": "execute_result"
    }
   ],
   "source": [
    "x.ndim"
   ]
  },
  {
   "cell_type": "code",
   "execution_count": 14,
   "id": "4bd06e23",
   "metadata": {},
   "outputs": [
    {
     "name": "stdout",
     "output_type": "stream",
     "text": [
      "3\n"
     ]
    }
   ],
   "source": [
    "#NumPy Array provides the ndim attribute that returns an integer that tells \n",
    "print(x.ndim)"
   ]
  },
  {
   "cell_type": "code",
   "execution_count": 18,
   "id": "0484b214",
   "metadata": {},
   "outputs": [
    {
     "name": "stdout",
     "output_type": "stream",
     "text": [
      "2\n",
      "5\n"
     ]
    }
   ],
   "source": [
    "a=np.array([1,2,3,4,5])\n",
    "print(a[1])\n",
    "print(a[1]+a[2])"
   ]
  },
  {
   "cell_type": "code",
   "execution_count": 20,
   "id": "c7b01b69",
   "metadata": {},
   "outputs": [
    {
     "name": "stdout",
     "output_type": "stream",
     "text": [
      "2nd element on 2nd dim:  5\n"
     ]
    }
   ],
   "source": [
    "# access elements in 2d array\n",
    "# access the 2nd element on 2nd dim\n",
    "x= np.array([[1,23,4,5], [5,43,6,7]])\n",
    "print(\"2nd element on 2nd dim: \", x[1,0])"
   ]
  },
  {
   "cell_type": "code",
   "execution_count": 23,
   "id": "5d32dadc",
   "metadata": {},
   "outputs": [
    {
     "name": "stdout",
     "output_type": "stream",
     "text": [
      "6\n"
     ]
    }
   ],
   "source": [
    "# Third element of the of the second array of the first array\n",
    "\n",
    "x=np.array([[[1,2,3],[4,5,6]],[[7,8,9],[10,11,12]]])\n",
    "print(x[0,1,2])"
   ]
  },
  {
   "cell_type": "code",
   "execution_count": 24,
   "id": "7728ec72",
   "metadata": {},
   "outputs": [
    {
     "name": "stdout",
     "output_type": "stream",
     "text": [
      "7\n"
     ]
    }
   ],
   "source": [
    "x=np.array([[[1,2,3],[4,5,6]],[[7,8,9],[10,11,12]]])\n",
    "print(x[1,0,0])"
   ]
  },
  {
   "cell_type": "code",
   "execution_count": 25,
   "id": "af4d4f64",
   "metadata": {},
   "outputs": [
    {
     "name": "stdout",
     "output_type": "stream",
     "text": [
      "Last element from 1st dim :  40\n"
     ]
    }
   ],
   "source": [
    "# use negative indexing to access an array from the end\n",
    "x=np.array([[10,29,30,40],[10,39,59,43]])\n",
    "print('Last element from 1st dim : ', x[0,-1])"
   ]
  },
  {
   "cell_type": "code",
   "execution_count": 27,
   "id": "b971250d",
   "metadata": {},
   "outputs": [
    {
     "data": {
      "text/plain": [
       "array([ 0,  1,  2,  3,  4,  5,  6,  7,  8,  9, 10, 11])"
      ]
     },
     "execution_count": 27,
     "metadata": {},
     "output_type": "execute_result"
    }
   ],
   "source": [
    " # generate array using arrange function\n",
    "np.arange(12)"
   ]
  },
  {
   "cell_type": "code",
   "execution_count": 28,
   "id": "7c24d1cd",
   "metadata": {},
   "outputs": [
    {
     "data": {
      "text/plain": [
       "array([ 2, 10, 18, 26])"
      ]
     },
     "execution_count": 28,
     "metadata": {},
     "output_type": "execute_result"
    }
   ],
   "source": [
    "np.arange(2,30,8)#start, stop,  steps"
   ]
  },
  {
   "cell_type": "code",
   "execution_count": 29,
   "id": "584b9774",
   "metadata": {},
   "outputs": [
    {
     "data": {
      "text/plain": [
       "array([0., 0., 0., 0., 0., 0., 0., 0., 0., 0.])"
      ]
     },
     "execution_count": 29,
     "metadata": {},
     "output_type": "execute_result"
    }
   ],
   "source": [
    "# you may generate zeros\n",
    "np.zeros(10)"
   ]
  },
  {
   "cell_type": "code",
   "execution_count": 30,
   "id": "413817e2",
   "metadata": {},
   "outputs": [],
   "source": [
    "# slicing array\n",
    "# we pass slice instead of index like this: [start:end]\n",
    "# we can also define the step, like this: [start:end:step]\n",
    "#if we donot pass end its considered length of the array in that dimention\n",
    "# if we do not pass step its considered 1\n",
    "# slicing arrays"
   ]
  },
  {
   "cell_type": "code",
   "execution_count": 31,
   "id": "7ff41fb3",
   "metadata": {},
   "outputs": [
    {
     "name": "stdout",
     "output_type": "stream",
     "text": [
      "[30 40 50 60]\n"
     ]
    }
   ],
   "source": [
    "#slicing arrays\n",
    "arr=np.array([10,20,30,40,50,60,70,80])\n",
    "# including the start index, but excludes the end index\n",
    "print(arr[2:6])\n"
   ]
  },
  {
   "cell_type": "code",
   "execution_count": 32,
   "id": "6ab8e4e3",
   "metadata": {},
   "outputs": [
    {
     "name": "stdout",
     "output_type": "stream",
     "text": [
      "[30 40 50 60 70 80]\n"
     ]
    }
   ],
   "source": [
    "print(arr[2:])"
   ]
  },
  {
   "cell_type": "code",
   "execution_count": 33,
   "id": "335013fa",
   "metadata": {},
   "outputs": [
    {
     "name": "stdout",
     "output_type": "stream",
     "text": [
      "[10 20 30]\n"
     ]
    }
   ],
   "source": [
    "print(arr[:3])"
   ]
  },
  {
   "cell_type": "code",
   "execution_count": 34,
   "id": "68beaf25",
   "metadata": {},
   "outputs": [
    {
     "name": "stdout",
     "output_type": "stream",
     "text": [
      "[50 60]\n"
     ]
    }
   ],
   "source": [
    "print(arr[-4:-2])"
   ]
  },
  {
   "cell_type": "code",
   "execution_count": 36,
   "id": "7011c4a8",
   "metadata": {},
   "outputs": [
    {
     "name": "stdout",
     "output_type": "stream",
     "text": [
      "[30 50]\n"
     ]
    }
   ],
   "source": [
    "print(arr[2:6:2])"
   ]
  },
  {
   "cell_type": "code",
   "execution_count": 37,
   "id": "ff7b73d9",
   "metadata": {},
   "outputs": [
    {
     "data": {
      "text/plain": [
       "array([1., 1., 1., 1., 1., 1., 1., 1., 1., 1., 1., 1., 1., 1., 1., 1., 1.,\n",
       "       1., 1., 1.])"
      ]
     },
     "execution_count": 37,
     "metadata": {},
     "output_type": "execute_result"
    }
   ],
   "source": [
    "np.ones(20)"
   ]
  },
  {
   "cell_type": "code",
   "execution_count": 38,
   "id": "43ab3820",
   "metadata": {},
   "outputs": [
    {
     "data": {
      "text/plain": [
       "array([[1., 1., 1., 1., 1.],\n",
       "       [1., 1., 1., 1., 1.],\n",
       "       [1., 1., 1., 1., 1.],\n",
       "       [1., 1., 1., 1., 1.]])"
      ]
     },
     "execution_count": 38,
     "metadata": {},
     "output_type": "execute_result"
    }
   ],
   "source": [
    "np.ones((4,5))"
   ]
  },
  {
   "cell_type": "markdown",
   "id": "1e3f21f9",
   "metadata": {},
   "source": [
    "Data type in numpy\n",
    "  * Numpy has some extra data types, and refer to data types with one character.\n",
    "    * like i in integer. u for unsigned integers"
   ]
  },
  {
   "cell_type": "code",
   "execution_count": 45,
   "id": "765be1b2",
   "metadata": {},
   "outputs": [
    {
     "name": "stdout",
     "output_type": "stream",
     "text": [
      "int32\n"
     ]
    }
   ],
   "source": [
    "import numpy as np\n",
    "x=np.array([1,2,3,4,5])\n",
    "print(x.dtype)"
   ]
  },
  {
   "cell_type": "code",
   "execution_count": 46,
   "id": "70cda01f",
   "metadata": {},
   "outputs": [
    {
     "name": "stdout",
     "output_type": "stream",
     "text": [
      "<U2\n"
     ]
    }
   ],
   "source": [
    "x=np.array([\"j\",\"ho\",\"hi\"])\n",
    "print(x.dtype)"
   ]
  },
  {
   "cell_type": "code",
   "execution_count": 48,
   "id": "ae3c4c97",
   "metadata": {},
   "outputs": [
    {
     "name": "stdout",
     "output_type": "stream",
     "text": [
      "[b'1' b'2' b'3' b'4']\n",
      "|S1\n"
     ]
    }
   ],
   "source": [
    "# we use the array() function to create arrays, this function can take on option argument: dtype\n",
    "#  that allows us to define the expected data type of the array elements\n",
    "\n",
    "import numpy as np\n",
    "arr= np.array([1,2,3,4], dtype='S')\n",
    "print(arr)\n",
    "print(arr.dtype)"
   ]
  },
  {
   "cell_type": "code",
   "execution_count": 49,
   "id": "e8c4521b",
   "metadata": {},
   "outputs": [
    {
     "ename": "ValueError",
     "evalue": "invalid literal for int() with base 10: 'a'",
     "output_type": "error",
     "traceback": [
      "\u001b[1;31m---------------------------------------------------------------------------\u001b[0m",
      "\u001b[1;31mValueError\u001b[0m                                Traceback (most recent call last)",
      "\u001b[1;32m~\\AppData\\Local\\Temp/ipykernel_19144/3632229507.py\u001b[0m in \u001b[0;36m<module>\u001b[1;34m\u001b[0m\n\u001b[0;32m      1\u001b[0m \u001b[1;32mimport\u001b[0m \u001b[0mnumpy\u001b[0m \u001b[1;32mas\u001b[0m \u001b[0mnp\u001b[0m\u001b[1;33m\u001b[0m\u001b[1;33m\u001b[0m\u001b[0m\n\u001b[1;32m----> 2\u001b[1;33m \u001b[0marr\u001b[0m\u001b[1;33m=\u001b[0m\u001b[0mnp\u001b[0m\u001b[1;33m.\u001b[0m\u001b[0marray\u001b[0m\u001b[1;33m(\u001b[0m\u001b[1;33m[\u001b[0m\u001b[1;34m'a'\u001b[0m\u001b[1;33m,\u001b[0m\u001b[1;34m'2'\u001b[0m\u001b[1;33m,\u001b[0m\u001b[1;34m'3'\u001b[0m\u001b[1;33m]\u001b[0m\u001b[1;33m,\u001b[0m \u001b[0mdtype\u001b[0m\u001b[1;33m=\u001b[0m\u001b[1;34m'i'\u001b[0m\u001b[1;33m)\u001b[0m\u001b[1;33m\u001b[0m\u001b[1;33m\u001b[0m\u001b[0m\n\u001b[0m",
      "\u001b[1;31mValueError\u001b[0m: invalid literal for int() with base 10: 'a'"
     ]
    }
   ],
   "source": [
    "import numpy as np\n",
    "arr=np.array(['a','2','3'], dtype='i')"
   ]
  },
  {
   "cell_type": "code",
   "execution_count": 50,
   "id": "9ef1f8b9",
   "metadata": {},
   "outputs": [
    {
     "name": "stdout",
     "output_type": "stream",
     "text": [
      "[49 20 30 40 50]\n",
      "[10 20 30 40 50]\n"
     ]
    }
   ],
   "source": [
    "# copy array\n",
    "a=np.array([10,20,30,40,50])\n",
    "x=a.copy()\n",
    "a[0]=49\n",
    "print(a)\n",
    "print(x)"
   ]
  },
  {
   "cell_type": "code",
   "execution_count": 51,
   "id": "061aa914",
   "metadata": {},
   "outputs": [
    {
     "name": "stdout",
     "output_type": "stream",
     "text": [
      "[49 20 30 40]\n",
      "[10 20 30 40]\n"
     ]
    }
   ],
   "source": [
    "list=[10,20,30,40]\n",
    "a=np.array(list)\n",
    "x=a.copy()\n",
    "a[0]=49\n",
    "print(a)\n",
    "print(x)"
   ]
  },
  {
   "cell_type": "code",
   "execution_count": 52,
   "id": "b3f5b2d7",
   "metadata": {},
   "outputs": [
    {
     "name": "stdout",
     "output_type": "stream",
     "text": [
      "None\n",
      "[1 2 3 4 5]\n"
     ]
    }
   ],
   "source": [
    "# print the value of the base attribute to check if an array owns it's or not\n",
    "import numpy as np\n",
    "arr=np.array([1,2,3,4,5])\n",
    "x=arr.copy()\n",
    "y=arr.view()\n",
    "\n",
    "print(x.base)\n",
    "print(y.base)\n",
    "# as mentioned above the copy owns the data, and  views does not owns the data, but how can we check that\n",
    "# Every numpy array has the attribute base that returns none if the array owns the data\n",
    "# otherwise the base attribute refers to the original object.\n"
   ]
  },
  {
   "cell_type": "code",
   "execution_count": 53,
   "id": "9328a200",
   "metadata": {},
   "outputs": [
    {
     "name": "stdout",
     "output_type": "stream",
     "text": [
      "(2, 4)\n"
     ]
    }
   ],
   "source": [
    "# shape of the array\n",
    "# numpy arrays have an attribute called \"shape\" that returns a tupple with each  index having the number of corrresponding elements\n",
    "\n",
    "arr=np.array([[1,2,3,4],[5,6,7,8]])\n",
    "print(arr.shape)\n"
   ]
  },
  {
   "cell_type": "code",
   "execution_count": 55,
   "id": "73fe1660",
   "metadata": {},
   "outputs": [
    {
     "name": "stdout",
     "output_type": "stream",
     "text": [
      "[[[[[1 2 3 4]]]]]\n",
      "shape of array :  (1, 1, 1, 1, 4)\n"
     ]
    }
   ],
   "source": [
    "# create an array with 5 dimentions using ndim using a vector with values 1,2,3,4\n",
    "# and verify that last dimention has value 4\n",
    "\n",
    "import numpy as np\n",
    "arr= np.array([1,2,3,4],ndmin=5)\n",
    "print(arr)\n",
    "print('shape of array : ',arr.shape)"
   ]
  },
  {
   "cell_type": "code",
   "execution_count": 57,
   "id": "06eccd15",
   "metadata": {},
   "outputs": [
    {
     "name": "stdout",
     "output_type": "stream",
     "text": [
      "[[ 1  2  3]\n",
      " [ 4 56  7]\n",
      " [ 8  9  7]\n",
      " [ 8 34 56]]\n"
     ]
    }
   ],
   "source": [
    "# reshape\n",
    "# convert the following 1-D array with 12 elements into a 2-d array.\n",
    "# the outermost dimention will have 4 arrays each with 3 elements\n",
    "# The outermost dimension will have  4 arrays, each with 3 elements\n",
    "arr= np.array([1,2,3,4,56,7,8,9,7,8,34,56])\n",
    "newarr=arr.reshape(4,3)\n",
    "print(newarr)"
   ]
  },
  {
   "cell_type": "code",
   "execution_count": 58,
   "id": "b18fb157",
   "metadata": {},
   "outputs": [
    {
     "name": "stdout",
     "output_type": "stream",
     "text": [
      "1 2 3 4 5 6 "
     ]
    }
   ],
   "source": [
    "arr=np.array([[1,2,3],[4,5,6]])\n",
    "for x in arr:\n",
    "    for y in x:\n",
    "        print(y, end=\" \")"
   ]
  },
  {
   "cell_type": "code",
   "execution_count": 59,
   "id": "7e04449e",
   "metadata": {},
   "outputs": [],
   "source": [
    "# random \n",
    "# numpy has lots of options to create random numbered array:\n",
    "# rand\n",
    "# create an array of the given shape and poputate it with random variable derived from a uniform data\n"
   ]
  },
  {
   "cell_type": "code",
   "execution_count": 67,
   "id": "d212bb22",
   "metadata": {},
   "outputs": [
    {
     "data": {
      "text/plain": [
       "array([0.42647717, 0.93293121, 0.88507694, 0.60700645, 0.02814781,\n",
       "       0.89578825, 0.0102215 , 0.83518152, 0.38562737, 0.37687042])"
      ]
     },
     "execution_count": 67,
     "metadata": {},
     "output_type": "execute_result"
    }
   ],
   "source": [
    "np.random.rand(10)"
   ]
  },
  {
   "cell_type": "markdown",
   "id": "617d3eec",
   "metadata": {},
   "source": [
    "\n",
    "### Random"
   ]
  },
  {
   "cell_type": "code",
   "execution_count": 70,
   "id": "351daa67",
   "metadata": {},
   "outputs": [
    {
     "name": "stdout",
     "output_type": "stream",
     "text": [
      "[[0.9985554  0.29056165 0.05480456 0.46477633 0.69441803]\n",
      " [0.05202976 0.6463104  0.10447277 0.37072204 0.59062449]\n",
      " [0.56095364 0.78416119 0.35608334 0.95177299 0.34767194]\n",
      " [0.26561478 0.91693974 0.19562025 0.09031666 0.77087394]]\n"
     ]
    }
   ],
   "source": [
    "# Random values is a given shape\n",
    "#create an array of the given shape and populate it with random samples from a uniform  disttribution\n",
    "# uniform distribution\n",
    "import numpy as np\n",
    "x=np.random.rand(4,5)\n",
    "print(x)"
   ]
  },
  {
   "cell_type": "code",
   "execution_count": 71,
   "id": "ece72df5",
   "metadata": {},
   "outputs": [
    {
     "data": {
      "text/plain": [
       "2"
      ]
     },
     "execution_count": 71,
     "metadata": {},
     "output_type": "execute_result"
    }
   ],
   "source": [
    "x.ndim"
   ]
  },
  {
   "cell_type": "code",
   "execution_count": 72,
   "id": "dcf5370a",
   "metadata": {},
   "outputs": [
    {
     "data": {
      "text/plain": [
       "(4, 5)"
      ]
     },
     "execution_count": 72,
     "metadata": {},
     "output_type": "execute_result"
    }
   ],
   "source": [
    "x.shape"
   ]
  },
  {
   "cell_type": "code",
   "execution_count": 78,
   "id": "0b6db923",
   "metadata": {},
   "outputs": [
    {
     "name": "stdout",
     "output_type": "stream",
     "text": [
      "<class 'numpy.ndarray'>\n"
     ]
    }
   ],
   "source": [
    "print(type(x))"
   ]
  },
  {
   "cell_type": "code",
   "execution_count": 79,
   "id": "e1826ef3",
   "metadata": {},
   "outputs": [],
   "source": [
    "# Return a sample  (or samples from the \"standard normal\" distribution)\n",
    "# if positive intlike argument are provided randn generates an array of shape (d0, d1,...dn)\n",
    "# filled with random floats sampled from a univariate \"normal\" (Gaussian) distribution of mean 0"
   ]
  },
  {
   "cell_type": "code",
   "execution_count": 80,
   "id": "9425fa7d",
   "metadata": {},
   "outputs": [
    {
     "data": {
      "text/plain": [
       "array([[-0.34816762,  1.95173134,  0.11449857,  0.54498366, -0.98053575],\n",
       "       [ 1.6358564 ,  0.76857332, -0.66388095,  1.17486943, -1.93338756],\n",
       "       [-1.9022065 ,  1.15300491,  0.06814685, -0.2855666 ,  0.03291326],\n",
       "       [-0.58495372,  2.48298155, -0.3229748 , -1.04138224,  0.48339152]])"
      ]
     },
     "execution_count": 80,
     "metadata": {},
     "output_type": "execute_result"
    }
   ],
   "source": [
    "np.random.randn(4,5)"
   ]
  },
  {
   "cell_type": "code",
   "execution_count": 83,
   "id": "20cbb760",
   "metadata": {},
   "outputs": [
    {
     "name": "stdout",
     "output_type": "stream",
     "text": [
      "0\n"
     ]
    }
   ],
   "source": [
    "from numpy import random \n",
    "x=random.randint(10)\n",
    "print(x)"
   ]
  },
  {
   "cell_type": "code",
   "execution_count": 88,
   "id": "46f2d22c",
   "metadata": {},
   "outputs": [
    {
     "data": {
      "text/plain": [
       "3"
      ]
     },
     "execution_count": 88,
     "metadata": {},
     "output_type": "execute_result"
    }
   ],
   "source": [
    "from numpy import random\n",
    "np.random.randint(2,5)"
   ]
  },
  {
   "cell_type": "code",
   "execution_count": 89,
   "id": "c0827a77",
   "metadata": {},
   "outputs": [],
   "source": [
    "# number of required random integer is 5 between 2 and 10"
   ]
  },
  {
   "cell_type": "code",
   "execution_count": 90,
   "id": "6373e243",
   "metadata": {},
   "outputs": [
    {
     "data": {
      "text/plain": [
       "array([3, 2, 5, 2, 3])"
      ]
     },
     "execution_count": 90,
     "metadata": {},
     "output_type": "execute_result"
    }
   ],
   "source": [
    "np.random.randint(2,10,5)"
   ]
  },
  {
   "cell_type": "code",
   "execution_count": 95,
   "id": "9ca6c3cf",
   "metadata": {},
   "outputs": [
    {
     "name": "stdout",
     "output_type": "stream",
     "text": [
      "[62 92 43 30 85  1 87 86 20 88]\n"
     ]
    }
   ],
   "source": [
    "from numpy import random\n",
    "x=random.randint(100, size=(10))\n",
    "print(x)"
   ]
  },
  {
   "cell_type": "code",
   "execution_count": 96,
   "id": "35b4fc1c",
   "metadata": {},
   "outputs": [
    {
     "data": {
      "text/plain": [
       "array([[10, 30, 40],\n",
       "       [20, 49, 50],\n",
       "       [38, 59, 56],\n",
       "       [ 2,  3,  5]])"
      ]
     },
     "execution_count": 96,
     "metadata": {},
     "output_type": "execute_result"
    }
   ],
   "source": [
    "sample_matrix=np.array(([10,30,40],[20,49,50],[38,59,56],[2,3,5]))\n",
    "sample_matrix"
   ]
  },
  {
   "cell_type": "code",
   "execution_count": 97,
   "id": "5cf67bf6",
   "metadata": {},
   "outputs": [
    {
     "data": {
      "text/plain": [
       "2"
      ]
     },
     "execution_count": 97,
     "metadata": {},
     "output_type": "execute_result"
    }
   ],
   "source": [
    "sample_matrix.ndim"
   ]
  },
  {
   "cell_type": "code",
   "execution_count": 99,
   "id": "c9f8e556",
   "metadata": {},
   "outputs": [
    {
     "data": {
      "text/plain": [
       "49"
      ]
     },
     "execution_count": 99,
     "metadata": {},
     "output_type": "execute_result"
    }
   ],
   "source": [
    "sample_matrix[1][1]"
   ]
  },
  {
   "cell_type": "code",
   "execution_count": 100,
   "id": "eee7f424",
   "metadata": {},
   "outputs": [
    {
     "data": {
      "text/plain": [
       "49"
      ]
     },
     "execution_count": 100,
     "metadata": {},
     "output_type": "execute_result"
    }
   ],
   "source": [
    "sample_matrix[1,1]"
   ]
  },
  {
   "cell_type": "code",
   "execution_count": 101,
   "id": "dcfdd8d8",
   "metadata": {},
   "outputs": [
    {
     "data": {
      "text/plain": [
       "5"
      ]
     },
     "execution_count": 101,
     "metadata": {},
     "output_type": "execute_result"
    }
   ],
   "source": [
    "sample_matrix[3][-1]"
   ]
  },
  {
   "cell_type": "code",
   "execution_count": 102,
   "id": "70103d5f",
   "metadata": {},
   "outputs": [
    {
     "data": {
      "text/plain": [
       "array([[30, 40],\n",
       "       [49, 50],\n",
       "       [59, 56]])"
      ]
     },
     "execution_count": 102,
     "metadata": {},
     "output_type": "execute_result"
    }
   ],
   "source": [
    "sample_matrix[:3,1:]"
   ]
  },
  {
   "cell_type": "code",
   "execution_count": 106,
   "id": "080402f7",
   "metadata": {},
   "outputs": [
    {
     "data": {
      "text/plain": [
       "array([ 0,  1,  2,  3,  4,  5,  6,  7,  8,  9, 10, 11, 12, 13, 14, 15, 16,\n",
       "       17, 18, 19])"
      ]
     },
     "execution_count": 106,
     "metadata": {},
     "output_type": "execute_result"
    }
   ],
   "source": [
    "ar=np.arange(20)\n",
    "ar\n"
   ]
  },
  {
   "cell_type": "code",
   "execution_count": 107,
   "id": "7c18d0b1",
   "metadata": {},
   "outputs": [
    {
     "data": {
      "text/plain": [
       "array([[ 0,  1,  2,  3,  4],\n",
       "       [ 5,  6,  7,  8,  9],\n",
       "       [10, 11, 12, 13, 14],\n",
       "       [15, 16, 17, 18, 19]])"
      ]
     },
     "execution_count": 107,
     "metadata": {},
     "output_type": "execute_result"
    }
   ],
   "source": [
    "newar=ar.reshape(4,5)\n",
    "newar"
   ]
  },
  {
   "cell_type": "code",
   "execution_count": 109,
   "id": "3aaecaa6",
   "metadata": {},
   "outputs": [
    {
     "data": {
      "text/plain": [
       "array([92, 30, 93, 98, 36, 83, 89, 37, 93, 18,  5, 11, 73, 87,  1, 51, 89,\n",
       "       53, 15, 30])"
      ]
     },
     "execution_count": 109,
     "metadata": {},
     "output_type": "execute_result"
    }
   ],
   "source": [
    "arr=np.random.randint(0,100,20)\n",
    "arr"
   ]
  },
  {
   "cell_type": "code",
   "execution_count": 110,
   "id": "1254a362",
   "metadata": {},
   "outputs": [],
   "source": [
    "new=arr.reshape(4,5)"
   ]
  },
  {
   "cell_type": "code",
   "execution_count": 111,
   "id": "6e4a4e71",
   "metadata": {},
   "outputs": [
    {
     "data": {
      "text/plain": [
       "array([[92, 30, 93, 98, 36],\n",
       "       [83, 89, 37, 93, 18],\n",
       "       [ 5, 11, 73, 87,  1],\n",
       "       [51, 89, 53, 15, 30]])"
      ]
     },
     "execution_count": 111,
     "metadata": {},
     "output_type": "execute_result"
    }
   ],
   "source": [
    "new"
   ]
  },
  {
   "cell_type": "code",
   "execution_count": 112,
   "id": "1d822000",
   "metadata": {},
   "outputs": [
    {
     "data": {
      "text/plain": [
       "array([[92, 83,  5, 51],\n",
       "       [30, 89, 11, 89],\n",
       "       [93, 37, 73, 53],\n",
       "       [98, 93, 87, 15],\n",
       "       [36, 18,  1, 30]])"
      ]
     },
     "execution_count": 112,
     "metadata": {},
     "output_type": "execute_result"
    }
   ],
   "source": [
    "# transpose of a matrix\n",
    "new.T\n"
   ]
  },
  {
   "cell_type": "code",
   "execution_count": 113,
   "id": "98e0478c",
   "metadata": {},
   "outputs": [],
   "source": [
    "# Searching Arrays  \n",
    "# you can search an array for a certain value, and return the indexes that get a match.\n",
    "# To search an array, use the where() method\n",
    "# find the index wher the values is 5\n",
    "\n",
    "import numpy as np"
   ]
  },
  {
   "cell_type": "code",
   "execution_count": 115,
   "id": "8310e0d2",
   "metadata": {},
   "outputs": [
    {
     "name": "stdout",
     "output_type": "stream",
     "text": [
      "(array([4], dtype=int64),)\n"
     ]
    }
   ],
   "source": [
    "arr=np.array([1,2,3,4,5,6,7,8])\n",
    "x=np.where(arr==5)\n",
    "print(x)"
   ]
  },
  {
   "cell_type": "code",
   "execution_count": 116,
   "id": "333a61e2",
   "metadata": {},
   "outputs": [
    {
     "name": "stdout",
     "output_type": "stream",
     "text": [
      "(array([2, 3, 4, 5], dtype=int64),)\n"
     ]
    }
   ],
   "source": [
    "arr=np.array([1,2,3,3,3,3,5,6,7,8])\n",
    "x=np.where(arr==3)\n",
    "print(x)"
   ]
  },
  {
   "cell_type": "code",
   "execution_count": 117,
   "id": "4223442b",
   "metadata": {},
   "outputs": [
    {
     "name": "stdout",
     "output_type": "stream",
     "text": [
      "(array([0, 2, 4, 6], dtype=int64),)\n"
     ]
    }
   ],
   "source": [
    "# find the index  where the values are odd\n",
    "arr=np.array([1,2,3,4,5,6,7,8])\n",
    "x=np.where(arr%2!=0)\n",
    "print(x)"
   ]
  },
  {
   "cell_type": "code",
   "execution_count": 118,
   "id": "6406ba98",
   "metadata": {},
   "outputs": [],
   "source": [
    "# filtering array\n",
    "# getting some elements out of an existing array  and creating a new array out of them is called filtering array\n",
    "# in numpy you filter an array using an boolean index list\n",
    "# if the value of the index is True that element is contained in the filtered array,\n",
    "# if the value of that index is false that element is excluded from the filtered array"
   ]
  },
  {
   "cell_type": "code",
   "execution_count": 119,
   "id": "f41f418f",
   "metadata": {},
   "outputs": [
    {
     "name": "stdout",
     "output_type": "stream",
     "text": [
      "[41 43]\n"
     ]
    }
   ],
   "source": [
    "import numpy as np\n",
    "arr=np.array([41,42,43,44])\n",
    "x=[True,False,True,False]\n",
    "newar=arr[x]\n",
    "print(newar)\n"
   ]
  },
  {
   "cell_type": "code",
   "execution_count": 121,
   "id": "0768c004",
   "metadata": {},
   "outputs": [
    {
     "name": "stdout",
     "output_type": "stream",
     "text": [
      "[array([1, 2]), array([3, 4]), array([5, 6])]\n"
     ]
    }
   ],
   "source": [
    "# split an array in three parts\n",
    "import numpy as np\n",
    "\n",
    "arr=np.array([1,2,3,4,5,6])\n",
    "newarr=np.array_split(arr,3)\n",
    "print(newarr)"
   ]
  },
  {
   "cell_type": "code",
   "execution_count": 122,
   "id": "38707a9f",
   "metadata": {},
   "outputs": [],
   "source": [
    "# joining means putting contents of two or more arrays in a single array.\n",
    "# In SQL we join tables based on a key, whereas in numpy we join arrays by axes.\n",
    "# we pass a sequence of arrays that we want to join to the concatenate "
   ]
  },
  {
   "cell_type": "code",
   "execution_count": 123,
   "id": "b0f93528",
   "metadata": {},
   "outputs": [
    {
     "name": "stdout",
     "output_type": "stream",
     "text": [
      "[1 2 3 4 5 5 6 7 8 9]\n"
     ]
    }
   ],
   "source": [
    "import numpy as np\n",
    "arr1=np.array([1,2,3,4,5])\n",
    "arr2=np.array([5,6,7,8,9])\n",
    "arr=np.concatenate((arr1,arr2))\n",
    "print(arr)"
   ]
  },
  {
   "cell_type": "code",
   "execution_count": null,
   "id": "66618caf",
   "metadata": {},
   "outputs": [],
   "source": []
  }
 ],
 "metadata": {
  "kernelspec": {
   "display_name": "Python 3 (ipykernel)",
   "language": "python",
   "name": "python3"
  },
  "language_info": {
   "codemirror_mode": {
    "name": "ipython",
    "version": 3
   },
   "file_extension": ".py",
   "mimetype": "text/x-python",
   "name": "python",
   "nbconvert_exporter": "python",
   "pygments_lexer": "ipython3",
   "version": "3.9.7"
  }
 },
 "nbformat": 4,
 "nbformat_minor": 5
}
