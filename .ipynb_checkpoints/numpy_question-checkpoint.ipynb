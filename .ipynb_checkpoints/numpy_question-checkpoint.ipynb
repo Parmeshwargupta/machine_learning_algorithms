{
 "cells": [
  {
   "cell_type": "code",
   "execution_count": 11,
   "id": "f920789c",
   "metadata": {},
   "outputs": [
    {
     "name": "stdout",
     "output_type": "stream",
     "text": [
      "[ 0  1  2  3  4  5  6  7  8  9 10 11]\n"
     ]
    }
   ],
   "source": [
    "# Question 1:\n",
    "\n",
    "import numpy as np\n",
    "ar=np.arange(12)\n",
    "print(ar)"
   ]
  },
  {
   "cell_type": "code",
   "execution_count": 12,
   "id": "0fcb1ba3",
   "metadata": {},
   "outputs": [
    {
     "name": "stdout",
     "output_type": "stream",
     "text": [
      "[[ 0  1  2  3]\n",
      " [ 4  5  6  7]\n",
      " [ 8  9 10 11]]\n"
     ]
    }
   ],
   "source": [
    "x=ar.reshape(3,4)\n",
    "print(x)"
   ]
  },
  {
   "cell_type": "code",
   "execution_count": 13,
   "id": "7194ac5d",
   "metadata": {},
   "outputs": [
    {
     "data": {
      "text/plain": [
       "2"
      ]
     },
     "execution_count": 13,
     "metadata": {},
     "output_type": "execute_result"
    }
   ],
   "source": [
    "x.ndim"
   ]
  },
  {
   "cell_type": "code",
   "execution_count": 15,
   "id": "ad779e81",
   "metadata": {},
   "outputs": [
    {
     "name": "stdout",
     "output_type": "stream",
     "text": [
      "[7 7 7 5 5 5 9 9 9]\n"
     ]
    }
   ],
   "source": [
    "# question2\n",
    "ar=np.array([7,5,9])\n",
    "a=np.repeat(ar,3)\n",
    "print(a)"
   ]
  },
  {
   "cell_type": "code",
   "execution_count": 17,
   "id": "46b2ce91",
   "metadata": {},
   "outputs": [],
   "source": [
    "# Question 3\n",
    "ar1=np.array([1,2,3,4,5])\n",
    "ar2=np.array([4,5,6,7,8])\n",
    "a=np.intersect1d(ar1,ar2)"
   ]
  },
  {
   "cell_type": "code",
   "execution_count": 18,
   "id": "07a9d4d2",
   "metadata": {},
   "outputs": [
    {
     "name": "stdout",
     "output_type": "stream",
     "text": [
      "[4 5]\n"
     ]
    }
   ],
   "source": [
    "print(a)"
   ]
  },
  {
   "cell_type": "code",
   "execution_count": 19,
   "id": "31efbcb6",
   "metadata": {},
   "outputs": [],
   "source": [
    "ar1=np.array([1,2,3,4,5])\n",
    "ar2=np.array([4,5,6,7,8])\n",
    "a=np.union1d(ar1,ar2)"
   ]
  },
  {
   "cell_type": "code",
   "execution_count": 20,
   "id": "20451b27",
   "metadata": {},
   "outputs": [
    {
     "name": "stdout",
     "output_type": "stream",
     "text": [
      "[1 2 3 4 5 6 7 8]\n"
     ]
    }
   ],
   "source": [
    "print(a)"
   ]
  },
  {
   "cell_type": "code",
   "execution_count": 22,
   "id": "5750f169",
   "metadata": {},
   "outputs": [],
   "source": [
    "# question 4\n",
    "ar1=np.array([1,2,3,4,5])\n",
    "ar2=np.array([4,5,6,7,8])\n",
    "a=np.setdiff1d(ar1,ar2)"
   ]
  },
  {
   "cell_type": "code",
   "execution_count": 23,
   "id": "a5b2cc13",
   "metadata": {},
   "outputs": [
    {
     "name": "stdout",
     "output_type": "stream",
     "text": [
      "[1 2 3]\n"
     ]
    }
   ],
   "source": [
    "print(a)"
   ]
  },
  {
   "cell_type": "code",
   "execution_count": 24,
   "id": "ad045ac3",
   "metadata": {},
   "outputs": [],
   "source": [
    "# Question 5\n",
    "ar1=np.array([1,2,3,4,5])\n",
    "ar2=np.array([1,5,6,4,8])\n",
    "a=np.where(ar1==ar2)\n"
   ]
  },
  {
   "cell_type": "code",
   "execution_count": 25,
   "id": "c6a3d96e",
   "metadata": {},
   "outputs": [
    {
     "name": "stdout",
     "output_type": "stream",
     "text": [
      "(array([0, 3], dtype=int64),)\n"
     ]
    }
   ],
   "source": [
    "print(a)"
   ]
  },
  {
   "cell_type": "code",
   "execution_count": 26,
   "id": "2d284a58",
   "metadata": {},
   "outputs": [],
   "source": [
    "# Question 5\n",
    "ar1=np.array([1,2,3,4,5])\n",
    "ar2=np.array([1,5,6,4,8])\n",
    "a=np.where(ar1!=ar2)\n"
   ]
  },
  {
   "cell_type": "code",
   "execution_count": 27,
   "id": "fcef8799",
   "metadata": {},
   "outputs": [
    {
     "name": "stdout",
     "output_type": "stream",
     "text": [
      "(array([1, 2, 4], dtype=int64),)\n"
     ]
    }
   ],
   "source": [
    "print(a)"
   ]
  },
  {
   "cell_type": "code",
   "execution_count": 39,
   "id": "4aab4d04",
   "metadata": {},
   "outputs": [
    {
     "name": "stdout",
     "output_type": "stream",
     "text": [
      "5 6 7 8 9 "
     ]
    }
   ],
   "source": [
    "a=np.random.randint(5,10)\n",
    "for i in range(5,10):\n",
    "      print(i, end=\" \")"
   ]
  },
  {
   "cell_type": "code",
   "execution_count": 40,
   "id": "60b67244",
   "metadata": {},
   "outputs": [
    {
     "data": {
      "text/plain": [
       "array([0, 1, 2, 3, 4, 5, 6, 7, 8, 9])"
      ]
     },
     "execution_count": 40,
     "metadata": {},
     "output_type": "execute_result"
    }
   ],
   "source": [
    "# Question 6\n",
    "a=np.arange(10)\n",
    "a"
   ]
  },
  {
   "cell_type": "code",
   "execution_count": 43,
   "id": "8b00fc5c",
   "metadata": {},
   "outputs": [
    {
     "data": {
      "text/plain": [
       "array([5, 6, 7, 8, 9])"
      ]
     },
     "execution_count": 43,
     "metadata": {},
     "output_type": "execute_result"
    }
   ],
   "source": [
    "index=np.where((a>=5)&(a<=10))\n",
    "a[index]"
   ]
  },
  {
   "cell_type": "code",
   "execution_count": null,
   "id": "b56967a8",
   "metadata": {},
   "outputs": [],
   "source": []
  },
  {
   "cell_type": "code",
   "execution_count": null,
   "id": "92664f95",
   "metadata": {},
   "outputs": [],
   "source": []
  }
 ],
 "metadata": {
  "kernelspec": {
   "display_name": "Python 3 (ipykernel)",
   "language": "python",
   "name": "python3"
  },
  "language_info": {
   "codemirror_mode": {
    "name": "ipython",
    "version": 3
   },
   "file_extension": ".py",
   "mimetype": "text/x-python",
   "name": "python",
   "nbconvert_exporter": "python",
   "pygments_lexer": "ipython3",
   "version": "3.9.7"
  }
 },
 "nbformat": 4,
 "nbformat_minor": 5
}
